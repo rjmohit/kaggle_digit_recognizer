{
 "cells": [
  {
   "cell_type": "code",
   "execution_count": 20,
   "metadata": {
    "collapsed": false
   },
   "outputs": [],
   "source": [
    "import pandas as pd\n",
    "import numpy as np\n",
    "import statsmodels.api as sm\n",
    "import matplotlib.pyplot as plt\n",
    "import matplotlib.image as mpimg\n",
    "import seaborn as sns\n",
    "import os\n",
    "\n",
    "%matplotlib inline\n",
    "\n",
    "from sklearn.cross_validation import cross_val_score\n",
    "from sklearn.decomposition import RandomizedPCA\n",
    "from sklearn.grid_search import GridSearchCV\n",
    "from sklearn.feature_selection import VarianceThreshold"
   ]
  },
  {
   "cell_type": "code",
   "execution_count": 21,
   "metadata": {
    "collapsed": false,
    "scrolled": true
   },
   "outputs": [],
   "source": [
    "# trainFile = \"E:/Github/kaggle_digit_recognizer/data/train.csv\"\n",
    "# os.chdir(os.path.dirname(trainFile))\n",
    "train = pd.read_csv('train.csv')\n",
    "test = pd.read_csv('test.csv')\n",
    "# train"
   ]
  },
  {
   "cell_type": "code",
   "execution_count": null,
   "metadata": {
    "collapsed": true
   },
   "outputs": [],
   "source": [
    "# Test what classifiers support 'sample_weight' for adaboosting\n",
    "import inspect\n",
    "from sklearn.utils.testing import all_estimators\n",
    "for name, clf in all_estimators(type_filter='classifier'):\n",
    "    if 'sample_weight' in inspect.getargspec(clf().fit)[0]:\n",
    "        print name"
   ]
  },
  {
   "cell_type": "code",
   "execution_count": 50,
   "metadata": {
    "collapsed": false,
    "scrolled": true
   },
   "outputs": [
    {
     "data": {
      "text/plain": [
       "<matplotlib.image.AxesImage at 0x1b07be10>"
      ]
     },
     "execution_count": 50,
     "metadata": {},
     "output_type": "execute_result"
    },
    {
     "data": {
      "image/png": "[encoded data removed]",
      "text/plain": [
       "<matplotlib.figure.Figure at 0x172c1e48>"
      ]
     },
     "metadata": {},
     "output_type": "display_data"
    }
   ],
   "source": [
    "plt.imshow(np.array(std.drop(['label'],axis=1)[:1]).reshape((28,28)))"
   ]
  },
  {
   "cell_type": "code",
   "execution_count": 3,
   "metadata": {
    "collapsed": false
   },
   "outputs": [],
   "source": [
    "mean = pd.DataFrame(train.groupby('label').mean()).reset_index()\n",
    "std = pd.DataFrame(train.groupby('label').std()).reset_index()\n",
    "# count = pd.DataFrame(train.groupby('label').count()).reset_index()\n",
    "# count.mean()"
   ]
  },
  {
   "cell_type": "code",
   "execution_count": 33,
   "metadata": {
    "collapsed": false,
    "scrolled": true
   },
   "outputs": [],
   "source": [
    "X = train.drop(['label'],axis=1)\n",
    "y = train['label']\n",
    "\n",
    "# selector = VarianceThreshold(threshold=0.01)\n",
    "# selector.fit(X.values)\n",
    "\n",
    "# mask = selector.get_support(True)\n",
    "# mask_cols = list(X.iloc[:, mask].columns)\n",
    "# X_trans = X[mask_cols]\n",
    "\n",
    "pca = RandomizedPCA(n_components=50)\n",
    "X_trans = pd.DataFrame(pca.fit_transform(X))\n",
    "# X_trans.describe()"
   ]
  },
  {
   "cell_type": "code",
   "execution_count": 32,
   "metadata": {
    "collapsed": false
   },
   "outputs": [
    {
     "data": {
      "text/plain": [
       "[mean: 0.96643, std: 0.00078, params: {'n_neighbors': 2},\n",
       " mean: 0.97162, std: 0.00165, params: {'n_neighbors': 3},\n",
       " mean: 0.97207, std: 0.00208, params: {'n_neighbors': 5},\n",
       " mean: 0.96938, std: 0.00132, params: {'n_neighbors': 10}]"
      ]
     },
     "execution_count": 32,
     "metadata": {},
     "output_type": "execute_result"
    }
   ],
   "source": [
    "# KNN\n",
    "from sklearn.neighbors import KNeighborsClassifier\n",
    "\n",
    "parameters = {'n_neighbors':[2,3,5,10]}\n",
    "knn = GridSearchCV(KNeighborsClassifier(), parameters, cv=5)\n",
    "knn.fit(X_trans, y).grid_scores_"
   ]
  },
  {
   "cell_type": "code",
   "execution_count": 37,
   "metadata": {
    "collapsed": false
   },
   "outputs": [
    {
     "data": {
      "text/plain": [
       "[mean: 0.96317, std: 0.00271, params: {'n_estimators': 5, 'max_samples': 0.5},\n",
       " mean: 0.96719, std: 0.00232, params: {'n_estimators': 20, 'max_samples': 0.5},\n",
       " mean: 0.96695, std: 0.00228, params: {'n_estimators': 5, 'max_samples': 1.0},\n",
       " mean: 0.97124, std: 0.00181, params: {'n_estimators': 20, 'max_samples': 1.0}]"
      ]
     },
     "execution_count": 37,
     "metadata": {},
     "output_type": "execute_result"
    }
   ],
   "source": [
    "# Bagging\n",
    "from sklearn.ensemble import BaggingClassifier\n",
    "from sklearn.neighbors import KNeighborsClassifier\n",
    "\n",
    "parameters = {'n_estimators':[5,20], 'max_samples': [0.5, 1.0]}\n",
    "bgc = GridSearchCV(BaggingClassifier(base_estimator = KNeighborsClassifier(n_neighbors=5), bootstrap_features = True, warm_start = True), parameters, cv=5)\n",
    "bgc.fit(X_trans, y).grid_scores_"
   ]
  },
  {
   "cell_type": "code",
   "execution_count": 34,
   "metadata": {
    "collapsed": false
   },
   "outputs": [
    {
     "data": {
      "text/plain": [
       "[mean: 0.95105, std: 0.00297, params: {'n_estimators': 300},\n",
       " mean: 0.95107, std: 0.00324, params: {'n_estimators': 500},\n",
       " mean: 0.95131, std: 0.00265, params: {'n_estimators': 1000}]"
      ]
     },
     "execution_count": 34,
     "metadata": {},
     "output_type": "execute_result"
    }
   ],
   "source": [
    "# Random forests\n",
    "from sklearn.ensemble import RandomForestClassifier\n",
    "\n",
    "parameters = {'n_estimators':[300,500,1000]}\n",
    "rfc = GridSearchCV(RandomForestClassifier(warm_start = True), parameters, cv=5)\n",
    "rfc.fit(X_trans, y).grid_scores_"
   ]
  },
  {
   "cell_type": "code",
   "execution_count": 8,
   "metadata": {
    "collapsed": false
   },
   "outputs": [
    {
     "data": {
      "text/plain": [
       "[mean: 0.90212, std: 0.00200, params: {}]"
      ]
     },
     "execution_count": 8,
     "metadata": {},
     "output_type": "execute_result"
    }
   ],
   "source": [
    "# Logistic Regression\n",
    "from sklearn.linear_model import LogisticRegression\n",
    "\n",
    "parameters = {}\n",
    "lrc = GridSearchCV(LogisticRegression(), parameters, cv=5)\n",
    "lrc.fit(X_trans, y).grid_scores_"
   ]
  },
  {
   "cell_type": "code",
   "execution_count": 18,
   "metadata": {
    "collapsed": false
   },
   "outputs": [
    {
     "data": {
      "text/plain": [
       "[mean: 0.87455, std: 0.00570, params: {}]"
      ]
     },
     "execution_count": 18,
     "metadata": {},
     "output_type": "execute_result"
    }
   ],
   "source": [
    "#Naive Bayes\n",
    "from sklearn.naive_bayes import GaussianNB\n",
    "\n",
    "parameters = {}\n",
    "gnb = GridSearchCV(GaussianNB(), parameters, cv=10)\n",
    "gnb.fit(X_trans, y).grid_scores_\n",
    "\n",
    "# gnb_auc = cross_val_score(gnb,X_trans, y, cv = 10, scoring = 'roc_auc').mean()"
   ]
  },
  {
   "cell_type": "code",
   "execution_count": 19,
   "metadata": {
    "collapsed": false
   },
   "outputs": [
    {
     "data": {
      "text/plain": [
       "[mean: 0.82340, std: 0.00209, params: {'min_samples_split': 2},\n",
       " mean: 0.82079, std: 0.00235, params: {'min_samples_split': 3},\n",
       " mean: 0.82195, std: 0.00080, params: {'min_samples_split': 5},\n",
       " mean: 0.82314, std: 0.00285, params: {'min_samples_split': 7},\n",
       " mean: 0.82205, std: 0.00176, params: {'min_samples_split': 10}]"
      ]
     },
     "execution_count": 19,
     "metadata": {},
     "output_type": "execute_result"
    }
   ],
   "source": [
    "# Decision Trees\n",
    "from sklearn.tree import DecisionTreeClassifier\n",
    "\n",
    "parameters = {'min_samples_split':[2,3,5,7,10]}\n",
    "dtc = GridSearchCV(DecisionTreeClassifier(), parameters, cv=5)\n",
    "dtc.fit(X_trans, y).grid_scores_"
   ]
  },
  {
   "cell_type": "code",
   "execution_count": 11,
   "metadata": {
    "collapsed": false
   },
   "outputs": [
    {
     "data": {
      "text/plain": [
       "[mean: 0.80738, std: 0.00405, params: {}]"
      ]
     },
     "execution_count": 11,
     "metadata": {},
     "output_type": "execute_result"
    }
   ],
   "source": [
    "# Nearest Centroid\n",
    "from sklearn.neighbors.nearest_centroid import NearestCentroid\n",
    "\n",
    "parameters = {}\n",
    "ncc = GridSearchCV(NearestCentroid(), parameters, cv=5)\n",
    "ncc.fit(X_trans, y).grid_scores_"
   ]
  },
  {
   "cell_type": "code",
   "execution_count": 13,
   "metadata": {
    "collapsed": false
   },
   "outputs": [
    {
     "data": {
      "text/plain": [
       "[mean: 0.11152, std: 0.00004, params: {'C': 0.01},\n",
       " mean: 0.11152, std: 0.00004, params: {'C': 1}]"
      ]
     },
     "execution_count": 13,
     "metadata": {},
     "output_type": "execute_result"
    }
   ],
   "source": [
    "# SVM\n",
    "from sklearn.svm import SVC\n",
    "\n",
    "parameters = {'C':[0.01,1]}\n",
    "svc = GridSearchCV(SVC(), parameters, cv=5)\n",
    "svc.fit(X_trans, y).grid_scores_"
   ]
  },
  {
   "cell_type": "code",
   "execution_count": 38,
   "metadata": {
    "collapsed": false
   },
   "outputs": [
    {
     "data": {
      "text/plain": [
       "[mean: 0.95062, std: 0.00309, params: {'n_estimators': 50, 'learning_rate': 0.01},\n",
       " mean: 0.95138, std: 0.00262, params: {'n_estimators': 100, 'learning_rate': 0.01},\n",
       " mean: 0.95036, std: 0.00286, params: {'n_estimators': 50, 'learning_rate': 0.1},\n",
       " mean: 0.95069, std: 0.00255, params: {'n_estimators': 100, 'learning_rate': 0.1}]"
      ]
     },
     "execution_count": 38,
     "metadata": {},
     "output_type": "execute_result"
    }
   ],
   "source": [
    "# AdaBoost\n",
    "from sklearn.ensemble import AdaBoostClassifier\n",
    "from sklearn.naive_bayes import GaussianNB\n",
    "\n",
    "parameters = {'n_estimators':[50,100], 'learning_rate':[0.01, 0.1]}\n",
    "adc = GridSearchCV(AdaBoostClassifier(base_estimator = RandomForestClassifier(n_estimators = 300, warm_start = True)), parameters, cv=5)\n",
    "adc.fit(X_trans, y).grid_scores_"
   ]
  },
  {
   "cell_type": "code",
   "execution_count": 39,
   "metadata": {
    "collapsed": false
   },
   "outputs": [
    {
     "data": {
      "text/plain": [
       "[mean: 0.75971, std: 0.00459, params: {'n_estimators': 50, 'learning_rate': 0.01},\n",
       " mean: 0.79519, std: 0.00480, params: {'n_estimators': 100, 'learning_rate': 0.01},\n",
       " mean: 0.89440, std: 0.00332, params: {'n_estimators': 50, 'learning_rate': 0.1},\n",
       " mean: 0.92167, std: 0.00191, params: {'n_estimators': 100, 'learning_rate': 0.1}]"
      ]
     },
     "execution_count": 39,
     "metadata": {},
     "output_type": "execute_result"
    }
   ],
   "source": [
    "# Gradient Boosting\n",
    "from sklearn.ensemble import GradientBoostingClassifier\n",
    "\n",
    "# gbc = GradientBoostingClassifier(n_estimators=100,learning_rate=0.01,max_depth=5)\n",
    "parameters = {'n_estimators':[50,100], 'learning_rate':[0.01, 0.1]}\n",
    "gbc = GridSearchCV(GradientBoostingClassifier(), parameters, cv=5)\n",
    "gbc.fit(X_trans, y).grid_scores_"
   ]
  },
  {
   "cell_type": "code",
   "execution_count": null,
   "metadata": {
    "collapsed": true
   },
   "outputs": [],
   "source": []
  }
 ],
 "metadata": {
  "kernelspec": {
   "display_name": "Python 2",
   "language": "python",
   "name": "python2"
  },
  "language_info": {
   "codemirror_mode": {
    "name": "ipython",
    "version": 2
   },
   "file_extension": ".py",
   "mimetype": "text/x-python",
   "name": "python",
   "nbconvert_exporter": "python",
   "pygments_lexer": "ipython2",
   "version": "2.7.11"
  }
 },
 "nbformat": 4,
 "nbformat_minor": 0
}
